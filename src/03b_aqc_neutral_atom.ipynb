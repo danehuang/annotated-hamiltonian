{
 "cells": [
  {
   "cell_type": "code",
   "execution_count": 1,
   "metadata": {},
   "outputs": [],
   "source": [
    "from bloqade import start\n",
    "from qutip import basis, mesolve, Qobj, QobjEvo\n",
    "import matplotlib.pyplot as plt\n",
    "import numpy as np\n",
    "\n",
    "from util import pretty, mk_H_Rydberg, histogram_final_state, plot_histogram, invert_keys"
   ]
  },
  {
   "cell_type": "markdown",
   "metadata": {},
   "source": [
    "# Adiabatic Quantum Computing with Neutral Atoms \n",
    "\n",
    "In this notebook, we will introduce adiabatic quantum computing (AQC) with neutral atoms."
   ]
  },
  {
   "cell_type": "markdown",
   "metadata": {},
   "source": [
    "## Review: Adiabatic Quantum Computing\n",
    "\n",
    "Recall that an **adiabatic quantum program** is a tuple\n",
    "\n",
    "$$\n",
    "(H_t, T)\n",
    "$$ \n",
    "\n",
    "where $H_t$ is a time-dependent Hamiltonian defined for $t \\in [0, T]$ and such that $H_t$ has a unique ground state $\\ket{\\psi(t)}$ for all $0 \\leq t \\leq T$ where $T$ is the length of simulation. \n",
    "\n",
    "An adiabatic evolution then performs the computation\n",
    "\n",
    "$$\n",
    "\\text{GroundState}(H_0) \\rightarrow_T \\text{GroundState}(H_T)\n",
    "$$\n",
    "\n",
    "in time $T$."
   ]
  },
  {
   "cell_type": "markdown",
   "metadata": {},
   "source": [
    "## Example: $\\ket{0} \\rightarrow \\ket{1}$\n",
    "\n",
    "We will now set up a computation that flips a qubit from $\\ket{0}$ to $\\ket{1}$. As a reminder, the **Rydberg Hamiltonian** on a single qubit (i.e., Rydberg atom) is given as\n",
    "\n",
    "$$\n",
    "\\frac{1}{\\hbar} H_{\\text{Rydberg}}(t) = \\begin{pmatrix}\n",
    "0 & \\frac{\\Omega(t)}{2} e^{i\\phi(t)} \\\\\n",
    "\\frac{\\Omega(t)}{2} e^{-i\\phi(t)} & -\\Delta(t)\n",
    "\\end{pmatrix} \n",
    "$$\n",
    "\n",
    "where \n",
    "1. $\\Omega(t)$ is a **Rabi frequency**,\n",
    "2. $\\phi(t)$ is the **Rabi phase**, and\n",
    "3. $\\Delta(t)$ is the **detuning** of the driving laser."
   ]
  },
  {
   "cell_type": "markdown",
   "metadata": {},
   "source": [
    "### Initial Hamiltonian\n",
    "\n",
    "We need to construct a Rydberg Hamiltonian whose ground state is $\\ket{0}$. One such Hamiltonian is given below where we set the detuning to a negative number."
   ]
  },
  {
   "cell_type": "code",
   "execution_count": 2,
   "metadata": {},
   "outputs": [
    {
     "data": {
      "text/latex": [
       "$$\n",
       "\n",
       "\\begin{bmatrix}\n",
       "0 & 0  \\\\\n",
       " 0 & 30  \\\\\n",
       " \\end{bmatrix}\n",
       "$$"
      ],
      "text/plain": [
       "<IPython.core.display.Latex object>"
      ]
     },
     "execution_count": 2,
     "metadata": {},
     "output_type": "execute_result"
    }
   ],
   "source": [
    "Omega_init = 0\n",
    "phi = 0\n",
    "Delta_init = -30\n",
    "register = start.add_position([(0, 0)])  # (um)\n",
    "H_init = mk_H_Rydberg(1, Omega_init, phi, Delta_init, register)\n",
    "pretty(H_init)"
   ]
  },
  {
   "cell_type": "code",
   "execution_count": 3,
   "metadata": {},
   "outputs": [
    {
     "name": "stdout",
     "output_type": "stream",
     "text": [
      "[ 0. 30.]\n"
     ]
    },
    {
     "data": {
      "text/latex": [
       "$$ |0\\rangle$$"
      ],
      "text/plain": [
       "<IPython.core.display.Latex object>"
      ]
     },
     "execution_count": 3,
     "metadata": {},
     "output_type": "execute_result"
    }
   ],
   "source": [
    "eigvals, eigs = np.linalg.eigh(H_init)\n",
    "idxs = np.argsort(eigvals)\n",
    "assert eigvals[idxs[0]] < np.max(eigvals[idxs[1:]])\n",
    "print(eigvals[idxs])\n",
    "pretty(eigs[:, idxs[0]])"
   ]
  },
  {
   "cell_type": "markdown",
   "metadata": {},
   "source": [
    "### Final Hamiltonian\n",
    "\n",
    "Next, we construct a Rydberg Hamiltonian whose ground state is $\\ket{1}$. One such Hamiltonian is given below where we set the detuning to a positive number."
   ]
  },
  {
   "cell_type": "code",
   "execution_count": 4,
   "metadata": {},
   "outputs": [
    {
     "data": {
      "text/latex": [
       "$$\n",
       "\n",
       "\\begin{bmatrix}\n",
       "0 & 0  \\\\\n",
       " 0 & -30  \\\\\n",
       " \\end{bmatrix}\n",
       "$$"
      ],
      "text/plain": [
       "<IPython.core.display.Latex object>"
      ]
     },
     "execution_count": 4,
     "metadata": {},
     "output_type": "execute_result"
    }
   ],
   "source": [
    "Omega_final = 0\n",
    "Delta_final = 30\n",
    "H_final = mk_H_Rydberg(1, Omega_final, phi, Delta_final, register)\n",
    "pretty(H_final)"
   ]
  },
  {
   "cell_type": "code",
   "execution_count": 5,
   "metadata": {},
   "outputs": [
    {
     "name": "stdout",
     "output_type": "stream",
     "text": [
      "[-30.   0.]\n"
     ]
    },
    {
     "data": {
      "text/latex": [
       "$$ |1\\rangle$$"
      ],
      "text/plain": [
       "<IPython.core.display.Latex object>"
      ]
     },
     "execution_count": 5,
     "metadata": {},
     "output_type": "execute_result"
    }
   ],
   "source": [
    "eigvals, eigs = np.linalg.eigh(H_final)\n",
    "idxs = np.argsort(eigvals)\n",
    "assert eigvals[idxs[0]] < np.max(eigvals[idxs[1:]])\n",
    "print(eigvals[idxs])\n",
    "pretty(eigs[:, idxs[0]])"
   ]
  },
  {
   "cell_type": "markdown",
   "metadata": {},
   "source": [
    "### Bloqade Program\n",
    "\n",
    "We can now construct a Bloqade program to perform this adiabatic computation. One issues is that we require a non-zero $\\Omega$ at some point during the computation. Otherwise, our qubits will not oscillate between $\\ket{0}$ and $\\ket{1}$. To accomplish this we can ramp up $\\Omega$ from $0$ to $15$ and back down to $0$ to match our intial and final Hamiltonian above. If we perform these transitions slowly enough, the adiabatic theorem will apply and we will successfully perform our computation."
   ]
  },
  {
   "cell_type": "code",
   "execution_count": 6,
   "metadata": {},
   "outputs": [],
   "source": [
    "T = np.pi*4\n",
    "register = start.add_position([(0, 0)])  # (um)\n",
    "program = (\n",
    "    register\n",
    "    .rydberg.rabi.amplitude.uniform.piecewise_linear(\n",
    "        durations=[0.2, T - 0.4, 0.2],\n",
    "        values=[0, 15, 15, 0]\n",
    "    )\n",
    "    .rydberg.rabi.phase.uniform.piecewise_constant(\n",
    "        durations=[T],\n",
    "        values=[0]\n",
    "    )\n",
    "    .rydberg.detuning.uniform.piecewise_linear(\n",
    "        durations=[T],\n",
    "        values=[-30, 30]\n",
    "    )\n",
    ")"
   ]
  },
  {
   "cell_type": "code",
   "execution_count": 7,
   "metadata": {},
   "outputs": [
    {
     "data": {
      "image/png": "[encoded data removed]",
      "text/plain": [
       "<Figure size 640x480 with 1 Axes>"
      ]
     },
     "execution_count": 7,
     "metadata": {},
     "output_type": "execute_result"
    }
   ],
   "source": [
    "results = program.bloqade.python().run(1000)\n",
    "report = results.report()\n",
    "plot_histogram(invert_keys(report.counts()))"
   ]
  },
  {
   "cell_type": "markdown",
   "metadata": {},
   "source": [
    "### QuTip Solving\n",
    "\n",
    "We can also manually implement this Rydberg Hamiltonian using the more generic `qutip` library as a sanity check."
   ]
  },
  {
   "cell_type": "code",
   "execution_count": 8,
   "metadata": {},
   "outputs": [
    {
     "data": {
      "text/plain": [
       "Text(0.5, 0, 'Time t')"
      ]
     },
     "execution_count": 8,
     "metadata": {},
     "output_type": "execute_result"
    },
    {
     "data": {
      "image/png": "[encoded data removed]",
      "text/plain": [
       "<Figure size 640x480 with 1 Axes>"
      ]
     },
     "metadata": {},
     "output_type": "display_data"
    }
   ],
   "source": [
    "T = np.pi*4\n",
    "phi = 0\n",
    "times = np.linspace(0, T, 500)\n",
    "\n",
    "def Omega(t):\n",
    "    if t < 0.2:\n",
    "        return 15/.2*t\n",
    "    elif t < T - 0.2:\n",
    "        return 15\n",
    "    else:\n",
    "        t = T - t\n",
    "        return 15/.2*t\n",
    "\n",
    "def Delta(t):\n",
    "    return Delta_init + (Delta_final - Delta_init)/T*t\n",
    "\n",
    "plt.plot(times, [Omega(t) for t in times], label=\"Omega(t)\")\n",
    "plt.plot(times, [Delta(t) for t in times], label=\"Delta(t)\")\n",
    "plt.legend()\n",
    "plt.xlabel(\"Time t\")"
   ]
  },
  {
   "cell_type": "code",
   "execution_count": 9,
   "metadata": {},
   "outputs": [
    {
     "data": {
      "text/latex": [
       "$$0.1634775213 |0\\rangle+0.9865470592 i |1\\rangle$$"
      ],
      "text/plain": [
       "<IPython.core.display.Latex object>"
      ]
     },
     "execution_count": 9,
     "metadata": {},
     "output_type": "execute_result"
    }
   ],
   "source": [
    "# Construct the time-dependent Hamiltonian\n",
    "H_list = [Qobj(mk_H_Rydberg(1, Omega(t), phi, Delta(t), register), dims=[[2], [2]]) for t in times]\n",
    "H = QobjEvo(H_list, tlist=times)\n",
    "result = mesolve(H, basis(2, 0), times, [], [])\n",
    "pretty(result.final_state)"
   ]
  },
  {
   "cell_type": "code",
   "execution_count": 10,
   "metadata": {},
   "outputs": [
    {
     "data": {
      "image/png": "[encoded data removed]",
      "text/plain": [
       "<Figure size 640x480 with 1 Axes>"
      ]
     },
     "execution_count": 10,
     "metadata": {},
     "output_type": "execute_result"
    }
   ],
   "source": [
    "plot_histogram(histogram_final_state(result.final_state))"
   ]
  },
  {
   "cell_type": "markdown",
   "metadata": {},
   "source": [
    "## Summary\n",
    "\n",
    "We saw a simple example of performing an adiabatic computation with neutral atoms."
   ]
  },
  {
   "cell_type": "markdown",
   "metadata": {},
   "source": [
    "## References\n",
    "\n",
    "[1] [Rydberg Hamiltonian](https://queracomputing.github.io/Bloqade.jl/dev/hamiltonians/#Hamiltonians)\n",
    "\n",
    "[2] [Adiabatic Evolution](https://queracomputing.github.io/Bloqade.jl/dev/tutorials/2.adiabatic/main/)"
   ]
  }
 ],
 "metadata": {
  "kernelspec": {
   "display_name": "learn",
   "language": "python",
   "name": "python3"
  },
  "language_info": {
   "codemirror_mode": {
    "name": "ipython",
    "version": 3
   },
   "file_extension": ".py",
   "mimetype": "text/x-python",
   "name": "python",
   "nbconvert_exporter": "python",
   "pygments_lexer": "ipython3",
   "version": "3.12.4"
  }
 },
 "nbformat": 4,
 "nbformat_minor": 2
}
