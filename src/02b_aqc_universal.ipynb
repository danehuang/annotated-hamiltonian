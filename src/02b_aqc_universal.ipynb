{
 "cells": [
  {
   "cell_type": "code",
   "execution_count": 1,
   "metadata": {},
   "outputs": [],
   "source": [
    "import numpy as np\n",
    "from qiskit import QuantumCircuit\n",
    "from qiskit.quantum_info import Statevector, Operator\n",
    "from qiskit_aer import AerSimulator\n",
    "from qutip import basis, mesolve, tensor, Qobj\n",
    "\n",
    "from util import zero, one, pretty, plot_histogram"
   ]
  },
  {
   "cell_type": "markdown",
   "metadata": {},
   "source": [
    "# Adiabatic Quantum Computing is Universal\n",
    "\n",
    "We review Arahnarov et al.'s~[1] result that AQC is **universal**, i.e., every quantum computation can be expressed as an adiabatic computation. "
   ]
  },
  {
   "cell_type": "markdown",
   "metadata": {},
   "source": [
    "## Main Idea\n",
    "\n",
    "The proof works by **reduction**, i.e., by showing that every quantum circuit can be translated to an adiabatic quantum program. This result might be surprising since the result of the computation is encoded in the ground state of the final Hamiltonian which seems to suggest that we need to know the result of the computation in order to construct the final Hamiltonian. Arahnarov et al.'s insight in the translation is to use a **Feynman-Kitaev clock** to encode a final Hamiltonian whose ground state encodes a verification that the circuit is applied correctly."
   ]
  },
  {
   "cell_type": "markdown",
   "metadata": {},
   "source": [
    "### Feynman-Kitaev Clock\n",
    "\n",
    "Suppose we have a quantum circuit $U$ on $n$ qubits comprised of $L$ 2-qubit gates. In symbols,\n",
    "\n",
    " $$\n",
    " U = U^{L}_{s^L_1, s^L_2} \\dots U^{1}_{s^1_1, s^1_2} \\dots\n",
    " $$\n",
    " \n",
    " where $U^{j}_{s^j_1, s^j_2}$ means the $j$-th gate is applied to qubits $s^j_1$ and $s^j_2$. The main of the translation is that we will encode a final state which checks that each gate is applied correctly, i.e., the $j$-th gate is applied to the appropriate qubits at the appropriate \"time\". To keep track of the appropriate time, we thus introduce ancila **clock qubits**. This suggests an encoding of the quantum state $\\ket{\\psi}$ of\n",
    "\n",
    "$$\n",
    "\\ket{\\psi} = \\ket{s_n ... s_1 c_1 ... c_L }\n",
    "$$\n",
    "\n",
    "where\n",
    "1. $\\ket{s_n ... s_1}$ are the $n$ qubits encoding the original state of the quantum circuit and\n",
    "2. $\\ket{c_1 ... c_L}$ are $L$ **clock** qubits. $L$ corresponds to the number of gates in $U$."
   ]
  },
  {
   "cell_type": "markdown",
   "metadata": {},
   "source": [
    "#### Unary Clock\n",
    "\n",
    "The clock is a unary representation (most-significant bit is on the right so we have to read from right to left to interpret as a number). We can read the unary clock from left to right. For example, with $L = 2$ we have\n",
    "- $|00\\rangle$ (time 0),\n",
    "- $|10\\rangle$ (time 1), and\n",
    "- $|11\\rangle$ (time 2). "
   ]
  },
  {
   "cell_type": "markdown",
   "metadata": {},
   "source": [
    "#### Hamiltonian for Enforcing Unary Clock\n",
    "\n",
    "We can construct a Hamiltonian $H_{clock}$ that enforces valid clock states as below\n",
    "\n",
    "\\begin{align*}\n",
    "H_{clock} & = \\sum_{i=1}^{L-1} I(\\ell-1) \\otimes |01\\rangle \\langle 01| \\otimes I(L - \\ell - 1)\n",
    "\\end{align*}\n",
    "\n",
    "where $I(m)$ is an identity matrix on $m$ qubits, i.e., $I(m)$ is a $2^m \\times 2^m$ matrix."
   ]
  },
  {
   "cell_type": "code",
   "execution_count": 2,
   "metadata": {},
   "outputs": [
    {
     "data": {
      "text/latex": [
       "$$\n",
       "\n",
       "\\begin{bmatrix}\n",
       "0 & 0 & 0 & 0  \\\\\n",
       " 0 & 1 & 0 & 0  \\\\\n",
       " 0 & 0 & 0 & 0  \\\\\n",
       " 0 & 0 & 0 & 0  \\\\\n",
       " \\end{bmatrix}\n",
       "$$"
      ],
      "text/plain": [
       "<IPython.core.display.Latex object>"
      ]
     },
     "execution_count": 2,
     "metadata": {},
     "output_type": "execute_result"
    }
   ],
   "source": [
    "def mk_H_clock(L: int) -> np.ndarray:\n",
    "    if L < 2:\n",
    "        raise ValueError(\"L > 2\")\n",
    "    elif L == 2:\n",
    "        oz = np.kron(zero, one)  # |01>\n",
    "        return np.outer(oz, oz)  # |01><01|\n",
    "    else:\n",
    "        H = np.zeros(2**L)\n",
    "        oz = np.kron(zero, one)  # |01>\n",
    "        oz = np.kron(np.outer(oz, oz), np.eye(2**(L - 2)))  # |01><01| \\otimes I(L - 2)\n",
    "        for ell in range(1, L):\n",
    "            # H += I(\\ell-1) \\otimes |01><01| \\otimes I(L - \\ell - 2)\n",
    "            H += np.kron(np.eye(2**(ell-1)), np.kron(oz, np.eye(2**(L - ell - 1))))\n",
    "        return H \n",
    "\n",
    "H_clock = mk_H_clock(2)\n",
    "pretty(H_clock)"
   ]
  },
  {
   "cell_type": "code",
   "execution_count": 3,
   "metadata": {},
   "outputs": [
    {
     "name": "stdout",
     "output_type": "stream",
     "text": [
      "Energies [0. 0. 0. 1.]\n"
     ]
    },
    {
     "data": {
      "text/latex": [
       "$$ |01\\rangle$$"
      ],
      "text/plain": [
       "<IPython.core.display.Latex object>"
      ]
     },
     "execution_count": 3,
     "metadata": {},
     "output_type": "execute_result"
    }
   ],
   "source": [
    "eigvals, eigs = np.linalg.eigh(H_clock)\n",
    "print(\"Energies\", eigvals)\n",
    "idxs = np.argsort(eigvals)\n",
    "assert eigvals[idxs[-1]] > np.max(eigvals[idxs[:-1]])\n",
    "pretty(eigs[:, idxs[-1]])"
   ]
  },
  {
   "cell_type": "markdown",
   "metadata": {},
   "source": [
    "We see that all eigenvalues are $0$ except for a single eigenvalue of $1$. This means that the associated state has been penalized relative to the other states has been increased. This forms the main idea of constructing a Hamiltonian to perform a desired computation: penalize unwanted states by increasing their energy. The penalized state in this case is \n",
    "\n",
    "$$\n",
    "\\ket{01}\n",
    "$$\n",
    "\n",
    "since it violates the unary condition."
   ]
  },
  {
   "cell_type": "code",
   "execution_count": 4,
   "metadata": {},
   "outputs": [
    {
     "data": {
      "text/latex": [
       "$$ |01\\rangle$$"
      ],
      "text/plain": [
       "<IPython.core.display.Latex object>"
      ]
     },
     "execution_count": 4,
     "metadata": {},
     "output_type": "execute_result"
    }
   ],
   "source": [
    "# Biggest eigenvectors are illegal states since they have the highest energy\n",
    "# |state clock_1 clock_2>\n",
    "pretty(eigs[:, 3])"
   ]
  },
  {
   "cell_type": "markdown",
   "metadata": {},
   "source": [
    "## Translation\n",
    "\n",
    "Arahnarov et al. use the Feynamn-Kitaev clock to translate a unitary matrix $U$ and converts it into an adiabatic program $(H_t, T)$. Without loss of generality, we can make two simplifying assumptions.\n",
    "\n",
    "1. We can construct $H_s$ where $s = t / T$ which scales the time interval from $[0, T]$ to $[0, 1]$.\n",
    "2. We use the linear interpolation\n",
    "\n",
    "$$\n",
    "H_s = (1 - s)H_1 + s H_1 \\,.\n",
    "$$\n",
    "\n",
    "Thus, given a quantum circuit $U$, we produce $(H_s, T)$."
   ]
  },
  {
   "cell_type": "code",
   "execution_count": 5,
   "metadata": {},
   "outputs": [],
   "source": [
    "# Goal in code: write a transpile function that takes a quantum circuit and produces a time-dependent Hamiltonian\n",
    "def transpile(qc: QuantumCircuit) -> np.ndarray:\n",
    "    def linear_interpolation(H_0, H_1, T):\n",
    "        def s(t):\n",
    "            return t / T\n",
    "        H_s = [[H_0, lambda t: 1 - s(t)], [H_1, s]]\n",
    "        return H_s\n",
    "    \n",
    "    def mk_H_0(qc):\n",
    "        raise ValueError(\"TODO ...\")\n",
    "    \n",
    "    def mk_H_1(qc):\n",
    "        raise ValueError(\"TODO ...\")\n",
    "\n",
    "    def compute_T(qc):\n",
    "        raise ValueError(\"TODO ...\")\n",
    "\n",
    "    return linear_interpolation(mk_H_0(qc), mk_H_1(qc), compute_T(qc))"
   ]
  },
  {
   "cell_type": "markdown",
   "metadata": {},
   "source": [
    "### Example\n",
    "\n",
    "We'll use an example to illustrate the main ideas of the translation. We use the circuit\n",
    "\n",
    "$$\n",
    "U = I H\n",
    "$$\n",
    "\n",
    "which applies a Hadamard $H$ followed by an identity $I$ so that we have a $2$ gate circuit that puts a qubit into superposition."
   ]
  },
  {
   "cell_type": "code",
   "execution_count": 6,
   "metadata": {},
   "outputs": [
    {
     "data": {
      "image/png": "[encoded data removed]",
      "text/plain": [
       "<Figure size 269.064x117.056 with 1 Axes>"
      ]
     },
     "execution_count": 6,
     "metadata": {},
     "output_type": "execute_result"
    }
   ],
   "source": [
    "qc = QuantumCircuit(1)\n",
    "qc.h(0)\n",
    "qc.id(0)\n",
    "qc.draw(output=\"mpl\", style=\"iqp\")"
   ]
  },
  {
   "cell_type": "markdown",
   "metadata": {},
   "source": [
    "### Constructing the Intial Hamiltonian\n",
    "\n",
    "The initial Hamiltonian $H_0$ is defined as combination of three Hamiltonians\n",
    "\n",
    "$$\n",
    "H_0 = I(n) \\otimes (H_{\\text{clockinit}} + H_{\\text{clock}}) + H_\\text{input} \\,.\n",
    "$$\n",
    "\n",
    "The term $ I(n) \\otimes (H_{\\text{clockinit}} + H_{\\text{clock}})$ enforces that the clock is initialized in the starting state and is a unary clock. The term $H_\\text{input}$ enforces that the input is initialized correctly, i.e., is $\\ket{0^{\\otimes n}}$. We'll describe each in turn now."
   ]
  },
  {
   "cell_type": "markdown",
   "metadata": {},
   "source": [
    "### H_clockinit\n",
    "\n",
    "The purpose of\n",
    "\n",
    "\\begin{align*}\n",
    "H_{clockinit} & = |1\\rangle \\langle 1| \\otimes I(L - 1)\n",
    "\\end{align*}\n",
    "\n",
    "is to ensure that the clock begins in the appopriate state."
   ]
  },
  {
   "cell_type": "code",
   "execution_count": 7,
   "metadata": {},
   "outputs": [
    {
     "data": {
      "text/latex": [
       "$$\n",
       "\n",
       "\\begin{bmatrix}\n",
       "0 & 0 & 0 & 0  \\\\\n",
       " 0 & 0 & 0 & 0  \\\\\n",
       " 0 & 0 & 1 & 0  \\\\\n",
       " 0 & 0 & 0 & 1  \\\\\n",
       " \\end{bmatrix}\n",
       "$$"
      ],
      "text/plain": [
       "<IPython.core.display.Latex object>"
      ]
     },
     "execution_count": 7,
     "metadata": {},
     "output_type": "execute_result"
    }
   ],
   "source": [
    "def mk_H_clockinit(L: int) -> np.ndarray:\n",
    "    return np.kron(np.outer(one, one), np.eye(2**(L - 1)))\n",
    "\n",
    "H_clockinit = mk_H_clockinit(2)\n",
    "pretty(H_clockinit)"
   ]
  },
  {
   "cell_type": "markdown",
   "metadata": {},
   "source": [
    "This penalizes the state $\\ket{10}$ and $\\ket{11}$ which are the unary states that are not $\\ket{00}$. The non-unary states will be penalized by $H_\\text{clock}$."
   ]
  },
  {
   "cell_type": "code",
   "execution_count": 8,
   "metadata": {},
   "outputs": [
    {
     "name": "stdout",
     "output_type": "stream",
     "text": [
      "[0.+0.j 0.+0.j 1.+0.j 1.+0.j]\n"
     ]
    }
   ],
   "source": [
    "eigvals, eigs = np.linalg.eig(H_clockinit)\n",
    "print(eigvals)\n",
    "idxs = np.argsort(eigvals)\n",
    "assert eigvals[idxs[-1]] > np.max(eigvals[idxs[:-2]])\n",
    "assert eigvals[idxs[-2]] > np.max(eigvals[idxs[:-2]])"
   ]
  },
  {
   "cell_type": "code",
   "execution_count": 9,
   "metadata": {},
   "outputs": [
    {
     "data": {
      "text/latex": [
       "$$ |11\\rangle$$"
      ],
      "text/plain": [
       "<IPython.core.display.Latex object>"
      ]
     },
     "execution_count": 9,
     "metadata": {},
     "output_type": "execute_result"
    }
   ],
   "source": [
    "pretty(eigs[:, idxs[-1]])"
   ]
  },
  {
   "cell_type": "code",
   "execution_count": 10,
   "metadata": {},
   "outputs": [
    {
     "data": {
      "text/latex": [
       "$$ |10\\rangle$$"
      ],
      "text/plain": [
       "<IPython.core.display.Latex object>"
      ]
     },
     "execution_count": 10,
     "metadata": {},
     "output_type": "execute_result"
    }
   ],
   "source": [
    "pretty(eigs[:, idxs[-2]])"
   ]
  },
  {
   "cell_type": "markdown",
   "metadata": {},
   "source": [
    "#### H_input\n",
    "\n",
    "The purpose of \n",
    "\n",
    "\\begin{align*}\n",
    "H_{input} & = (\\sum_{i=1}^n I(i-1) \\otimes |1\\rangle \\langle 1| \\otimes I(n - i - 1)) \\otimes (|0 \\rangle \\langle 0| \\otimes I(L - 1)) \n",
    "\\end{align*}\n",
    "\n",
    "is to ensure that the state qubits are initialized to $\\ket{0^{\\otimes n}}$ whenever the clock qubits indicate that the clock is in its initial state $\\ket{0^{\\otimes L}}$."
   ]
  },
  {
   "cell_type": "code",
   "execution_count": 11,
   "metadata": {},
   "outputs": [
    {
     "data": {
      "text/latex": [
       "$$\n",
       "\n",
       "\\begin{bmatrix}\n",
       "0 & 0 & 0 & 0 & 0 & 0 & 0 & 0  \\\\\n",
       " 0 & 0 & 0 & 0 & 0 & 0 & 0 & 0  \\\\\n",
       " 0 & 0 & 0 & 0 & 0 & 0 & 0 & 0  \\\\\n",
       " 0 & 0 & 0 & 0 & 0 & 0 & 0 & 0  \\\\\n",
       " 0 & 0 & 0 & 0 & 1 & 0 & 0 & 0  \\\\\n",
       " 0 & 0 & 0 & 0 & 0 & 1 & 0 & 0  \\\\\n",
       " 0 & 0 & 0 & 0 & 0 & 0 & 0 & 0  \\\\\n",
       " 0 & 0 & 0 & 0 & 0 & 0 & 0 & 0  \\\\\n",
       " \\end{bmatrix}\n",
       "$$"
      ],
      "text/plain": [
       "<IPython.core.display.Latex object>"
      ]
     },
     "execution_count": 11,
     "metadata": {},
     "output_type": "execute_result"
    }
   ],
   "source": [
    "def mk_H_input(n: int, L: int) -> np.ndarray:\n",
    "    if n < 1:\n",
    "        raise ValueError(\"n >= 1\")\n",
    "    \n",
    "    op_oo = np.outer(one, one)\n",
    "    if n == 1:\n",
    "        state = op_oo\n",
    "    elif n == 2:\n",
    "        state = np.kron(np.eye(1), op_oo)\n",
    "    else:\n",
    "        state = np.kron(op_oo, np.eye(2**(n - 2)))\n",
    "        for i in range(2, n):\n",
    "            state += np.kron(np.eye(2**(i - 1)), np.kron(op_oo, np.eye(2**(n - 2))))\n",
    "\n",
    "    if L < 2:\n",
    "        raise ValueError(\"L > 2\")\n",
    "    else:\n",
    "        clock = np.kron(np.outer(zero, zero), np.eye(2**(L - 1)))\n",
    "\n",
    "    return np.kron(state, clock)\n",
    "\n",
    "H_input = mk_H_input(1, 2)\n",
    "pretty(H_input)"
   ]
  },
  {
   "cell_type": "code",
   "execution_count": 12,
   "metadata": {},
   "outputs": [
    {
     "data": {
      "text/plain": [
       "array([0.+0.j, 0.+0.j, 0.+0.j, 0.+0.j, 1.+0.j, 1.+0.j, 0.+0.j, 0.+0.j])"
      ]
     },
     "execution_count": 12,
     "metadata": {},
     "output_type": "execute_result"
    }
   ],
   "source": [
    "eigvals, eigs = np.linalg.eig(H_input)\n",
    "idxs = np.argsort(eigvals)\n",
    "assert eigvals[idxs[-1]] > np.max(eigvals[idxs[:-2]])\n",
    "assert eigvals[idxs[-2]] > np.max(eigvals[idxs[:-2]])\n",
    "eigvals"
   ]
  },
  {
   "cell_type": "code",
   "execution_count": 13,
   "metadata": {},
   "outputs": [
    {
     "data": {
      "text/latex": [
       "$$ |101\\rangle$$"
      ],
      "text/plain": [
       "<IPython.core.display.Latex object>"
      ]
     },
     "execution_count": 13,
     "metadata": {},
     "output_type": "execute_result"
    }
   ],
   "source": [
    "# |state clock_1 clock_2>\n",
    "pretty(eigs[:, idxs[-1]])"
   ]
  },
  {
   "cell_type": "code",
   "execution_count": 14,
   "metadata": {},
   "outputs": [
    {
     "data": {
      "text/latex": [
       "$$ |100\\rangle$$"
      ],
      "text/plain": [
       "<IPython.core.display.Latex object>"
      ]
     },
     "execution_count": 14,
     "metadata": {},
     "output_type": "execute_result"
    }
   ],
   "source": [
    "# |state clock_1 clock_2>\n",
    "pretty(eigs[:, idxs[-2]])"
   ]
  },
  {
   "cell_type": "markdown",
   "metadata": {},
   "source": [
    "#### Putting it together\n",
    "\n",
    "We can put all three Hamiltonians together to construct $H_0$."
   ]
  },
  {
   "cell_type": "code",
   "execution_count": 15,
   "metadata": {},
   "outputs": [
    {
     "data": {
      "text/latex": [
       "$$\n",
       "\n",
       "\\begin{bmatrix}\n",
       "0 & 0 & 0 & 0 & 0 & 0 & 0 & 0  \\\\\n",
       " 0 & 1 & 0 & 0 & 0 & 0 & 0 & 0  \\\\\n",
       " 0 & 0 & 1 & 0 & 0 & 0 & 0 & 0  \\\\\n",
       " 0 & 0 & 0 & 1 & 0 & 0 & 0 & 0  \\\\\n",
       " 0 & 0 & 0 & 0 & 1 & 0 & 0 & 0  \\\\\n",
       " 0 & 0 & 0 & 0 & 0 & 2 & 0 & 0  \\\\\n",
       " 0 & 0 & 0 & 0 & 0 & 0 & 1 & 0  \\\\\n",
       " 0 & 0 & 0 & 0 & 0 & 0 & 0 & 1  \\\\\n",
       " \\end{bmatrix}\n",
       "$$"
      ],
      "text/plain": [
       "<IPython.core.display.Latex object>"
      ]
     },
     "execution_count": 15,
     "metadata": {},
     "output_type": "execute_result"
    }
   ],
   "source": [
    "def mk_H_0(qc: QuantumCircuit) -> np.ndarray:\n",
    "    n = qc.num_qubits\n",
    "    L = sum(qc.count_ops().values()) \n",
    "    H_clock = mk_H_clock(L)\n",
    "    H_clockinit = mk_H_clockinit(L)\n",
    "    H_input = mk_H_input(n, L)\n",
    "    return np.kron(np.eye(2**n), (H_clockinit + H_clock)) + H_input\n",
    "    \n",
    "H_0 = mk_H_0(qc)\n",
    "pretty(H_0)"
   ]
  },
  {
   "cell_type": "markdown",
   "metadata": {},
   "source": [
    "The lowest energy state is $\\ket{000}$ as desired."
   ]
  },
  {
   "cell_type": "code",
   "execution_count": 16,
   "metadata": {},
   "outputs": [
    {
     "name": "stdout",
     "output_type": "stream",
     "text": [
      "[0.+0.j 1.+0.j 1.+0.j 1.+0.j 1.+0.j 2.+0.j 1.+0.j 1.+0.j]\n"
     ]
    },
    {
     "data": {
      "text/latex": [
       "$$ |000\\rangle$$"
      ],
      "text/plain": [
       "<IPython.core.display.Latex object>"
      ]
     },
     "execution_count": 16,
     "metadata": {},
     "output_type": "execute_result"
    }
   ],
   "source": [
    "eigvals, eigs = np.linalg.eig(H_0)\n",
    "print(eigvals)\n",
    "idxs = np.argsort(eigvals)\n",
    "assert eigvals[idxs[0]] < np.min(eigvals[idxs[1:]])\n",
    "#|s_1 c_1 c_0>\n",
    "pretty(eigs[:, idxs[0]])"
   ]
  },
  {
   "cell_type": "markdown",
   "metadata": {},
   "source": [
    "### Constructing the Final Hamiltonian\n",
    "\n",
    "The final Hamiltonian is given as\n",
    "\n",
    "$$\n",
    "H_1 = (I(n) \\otimes H_\\text{clock}) + H_\\text{input} + H_\\text{propagation} \\,.\n",
    "$$\n",
    "\n",
    "The final Hamiltonian ensures that\n",
    "1. the clock is valid throughout the computation (first term),\n",
    "2. the input of the computation was started in the correct state (second term), and\n",
    "3. the computation was propagated correctly (third term).\n",
    "\n",
    "We will cover $H_\\text{propagation}$ now."
   ]
  },
  {
   "cell_type": "markdown",
   "metadata": {},
   "source": [
    "### Propagation Hamiltonian\n",
    "\n",
    "The propagation Hamiltonian is defined as\n",
    "\n",
    "$$\n",
    "H_\\text{propagate} = \\frac{1}{2} \\sum_{\\ell=1}^L \\widetilde{H}_{\\ell}\n",
    "$$\n",
    "\n",
    "where\n",
    "\n",
    "1.\n",
    "\n",
    "$$\n",
    "\\widetilde{H}_1 = I \\otimes \\ket{00}\\bra{00}_{1,2} - U^{1}_{s^1_1, s^1_2} \\otimes \\ket{10}\\bra{00}_{1,2} - (U^{1}_{s^1_1, s^1_2}))^\\dagger \\otimes \\ket{00}\\bra{10}_{1,2} + I \\otimes \\ket{10}\\bra{10}_{1,2} \\,,\n",
    "$$\n",
    "\n",
    "2.\n",
    "\n",
    "$$\n",
    "\\widetilde{H}_{\\ell} = I \\otimes \\ket{100}\\bra{100}_{\\ell-1,\\ell,\\ell+1} - U^{\\ell}_{s^\\ell_1, s^\\ell_2} \\otimes \\ket{110}\\bra{100}_{\\ell-1,\\ell,\\ell+1} \n",
    "- (U^{\\ell}_{s^\\ell_1, s^\\ell_2})^\\dagger \\otimes \\ket{100}\\bra{110}_{\\ell-1,\\ell,\\ell+1} + I \\otimes \\ket{110}\\bra{110}_{\\ell-1,\\ell,\\ell+1} \\,,\n",
    "$$\n",
    "\n",
    "3. and\n",
    "\n",
    "$$\n",
    "\\widetilde{H}_L = I \\otimes \\ket{10}\\bra{10}_{L-1,L} - U^{L}_{s^L_1, s^L_2} \\otimes \\ket{11}\\bra{10}_{L-1,L} - (U^{L}_{s^L_1, s^L_2})^\\dagger \\otimes \\ket{10}\\bra{11}_{L-1,L} + I \\otimes \\ket{11}\\bra{11}_{L-1,L} \\,.\n",
    "$$\n",
    "\n",
    "The Hamiltonian checks\n",
    "1. that the initial and final clock states are valid and\n",
    "2. that each gate and its reverse is applied in the appropriate order."
   ]
  },
  {
   "cell_type": "code",
   "execution_count": 17,
   "metadata": {},
   "outputs": [
    {
     "name": "stderr",
     "output_type": "stream",
     "text": [
      "/var/folders/4y/c1cn6w0n0_b0s21cb4cb4tp80000gn/T/ipykernel_62069/1635389874.py:12: DeprecationWarning: Treating CircuitInstruction as an iterable is deprecated legacy behavior since Qiskit 1.2, and will be removed in Qiskit 2.0. Instead, use the `operation`, `qubits` and `clbits` named attributes.\n",
      "  gate = gate_data[0]\n"
     ]
    },
    {
     "data": {
      "text/latex": [
       "$$\n",
       "\n",
       "\\begin{bmatrix}\n",
       "\\frac{1}{2} & 0 & - \\frac{\\sqrt{2}}{4} & 0 & 0 & 0 & - \\frac{\\sqrt{2}}{4} & 0  \\\\\n",
       " 0 & 0 & 0 & 0 & 0 & 0 & 0 & 0  \\\\\n",
       " - \\frac{\\sqrt{2}}{4} & 0 & 1 & - \\frac{1}{2} & - \\frac{\\sqrt{2}}{4} & 0 & 0 & 0  \\\\\n",
       " 0 & 0 & - \\frac{1}{2} & \\frac{1}{2} & 0 & 0 & 0 & 0  \\\\\n",
       " 0 & 0 & - \\frac{\\sqrt{2}}{4} & 0 & \\frac{1}{2} & 0 & \\frac{\\sqrt{2}}{4} & 0  \\\\\n",
       " 0 & 0 & 0 & 0 & 0 & 0 & 0 & 0  \\\\\n",
       " - \\frac{\\sqrt{2}}{4} & 0 & 0 & 0 & \\frac{\\sqrt{2}}{4} & 0 & 1 & - \\frac{1}{2}  \\\\\n",
       " 0 & 0 & 0 & 0 & 0 & 0 & - \\frac{1}{2} & \\frac{1}{2}  \\\\\n",
       " \\end{bmatrix}\n",
       "$$"
      ],
      "text/plain": [
       "<IPython.core.display.Latex object>"
      ]
     },
     "execution_count": 17,
     "metadata": {},
     "output_type": "execute_result"
    }
   ],
   "source": [
    "def mk_H_propagate(qc: QuantumCircuit):\n",
    "    n = qc.num_qubits\n",
    "    L = sum(qc.count_ops().values()) \n",
    "    \n",
    "    zz = np.kron(zero, zero)\n",
    "    oz = np.kron(one, zero)\n",
    "    oo = np.kron(one, one)\n",
    "    I = np.eye(2**n)\n",
    "\n",
    "    def gate_to_operator(ell):\n",
    "        gate_data = qc.data[ell]\n",
    "        gate = gate_data[0]\n",
    "        return Operator(gate).data\n",
    "\n",
    "    U = gate_to_operator(0)\n",
    "    U_d = np.conjugate(U).T\n",
    "    H = np.kron(I, np.outer(zz, zz)) - np.kron(U, np.outer(oz, zz)) - np.kron(U_d, np.outer(zz, oz)) + np.kron(I, np.outer(oz, oz))\n",
    "    for ell in range(1, L):\n",
    "        U = gate_to_operator(ell)\n",
    "        U_d = np.conjugate(U).T\n",
    "        if ell == L - 1:\n",
    "            H += np.kron(I, np.outer(oz, oz)) - np.kron(U, np.outer(oo, oz)) - np.kron(U_d, np.outer(oz, oo)) + np.kron(I, np.outer(oo, oo))\n",
    "        else:\n",
    "            pass\n",
    "    return 0.5 * H\n",
    "\n",
    "H_propagate = mk_H_propagate(qc)\n",
    "pretty(H_propagate)"
   ]
  },
  {
   "cell_type": "markdown",
   "metadata": {},
   "source": [
    "#### Putting it together\n",
    "\n",
    "We can now construct\n",
    "\n",
    "$$\n",
    "H_1 = (I(n) \\otimes H_\\text{clock}) + H_\\text{input} + H_\\text{propagation} \\,.\n",
    "$$"
   ]
  },
  {
   "cell_type": "code",
   "execution_count": 18,
   "metadata": {},
   "outputs": [
    {
     "data": {
      "text/latex": [
       "$$\n",
       "\n",
       "\\begin{bmatrix}\n",
       "\\frac{1}{2} & 0 & - \\frac{\\sqrt{2}}{4} & 0 & 0 & 0 & - \\frac{\\sqrt{2}}{4} & 0  \\\\\n",
       " 0 & 1 & 0 & 0 & 0 & 0 & 0 & 0  \\\\\n",
       " - \\frac{\\sqrt{2}}{4} & 0 & 1 & - \\frac{1}{2} & - \\frac{\\sqrt{2}}{4} & 0 & 0 & 0  \\\\\n",
       " 0 & 0 & - \\frac{1}{2} & \\frac{1}{2} & 0 & 0 & 0 & 0  \\\\\n",
       " 0 & 0 & - \\frac{\\sqrt{2}}{4} & 0 & \\frac{3}{2} & 0 & \\frac{\\sqrt{2}}{4} & 0  \\\\\n",
       " 0 & 0 & 0 & 0 & 0 & 2 & 0 & 0  \\\\\n",
       " - \\frac{\\sqrt{2}}{4} & 0 & 0 & 0 & \\frac{\\sqrt{2}}{4} & 0 & 1 & - \\frac{1}{2}  \\\\\n",
       " 0 & 0 & 0 & 0 & 0 & 0 & - \\frac{1}{2} & \\frac{1}{2}  \\\\\n",
       " \\end{bmatrix}\n",
       "$$"
      ],
      "text/plain": [
       "<IPython.core.display.Latex object>"
      ]
     },
     "execution_count": 18,
     "metadata": {},
     "output_type": "execute_result"
    }
   ],
   "source": [
    "def mk_H_1(qc):\n",
    "    n = qc.num_qubits\n",
    "    L = sum(qc.count_ops().values()) \n",
    "\n",
    "    H_clock = mk_H_clock(L)\n",
    "    H_input = mk_H_input(n, L)\n",
    "    H_propagate = mk_H_propagate(qc)\n",
    "    return np.kron(np.eye(2**n), H_clock) + H_input + H_propagate\n",
    "\n",
    "H_1 = np.kron(np.eye(2), H_clock) + H_input + H_propagate\n",
    "pretty(H_1)"
   ]
  },
  {
   "cell_type": "code",
   "execution_count": 19,
   "metadata": {},
   "outputs": [
    {
     "data": {
      "text/latex": [
       "$$\\frac{\\sqrt{3}}{3} |000\\rangle+\\frac{\\sqrt{6}}{6} |010\\rangle+\\frac{\\sqrt{6}}{6} |011\\rangle+\\frac{\\sqrt{6}}{6} |110\\rangle+\\frac{\\sqrt{6}}{6} |111\\rangle$$"
      ],
      "text/plain": [
       "<IPython.core.display.Latex object>"
      ]
     },
     "execution_count": 19,
     "metadata": {},
     "output_type": "execute_result"
    }
   ],
   "source": [
    "eigvals, eigs = np.linalg.eig(H_1)\n",
    "\n",
    "# Get the ground state\n",
    "idxs = np.argsort(eigvals)\n",
    "assert eigvals[idxs[0]] < np.min(eigvals[idxs[1:]])\n",
    "pretty(eigs[:, idxs[0]])"
   ]
  },
  {
   "cell_type": "markdown",
   "metadata": {},
   "source": [
    "#### Post-selection\n",
    "\n",
    "The final quantum state contains a history of the computation.\n",
    "\n",
    "1. The initial state $\\ket{000}$ occurs with probability $1/3$.\n",
    "2. The state after the application of the $H$ is $\\frac{\\sqrt{6}}{6}\\ket{010} + \\frac{\\sqrt{6}}{6}\\ket{110}$ occurs with probability $1/3$.\n",
    "3. The final state after the application of the identity is $\\frac{\\sqrt{6}}{6}\\ket{011} + \\frac{\\sqrt{6}}{6}\\ket{111}$ which occurs with probability $1/3$."
   ]
  },
  {
   "cell_type": "code",
   "execution_count": 20,
   "metadata": {},
   "outputs": [
    {
     "data": {
      "image/png": "[encoded data removed]",
      "text/plain": [
       "<Figure size 640x480 with 1 Axes>"
      ]
     },
     "execution_count": 20,
     "metadata": {},
     "output_type": "execute_result"
    }
   ],
   "source": [
    "def histogram_final_state(final_state):\n",
    "    qc_extract = QuantumCircuit(3, 3)\n",
    "    qc_extract.initialize(final_state)\n",
    "    qc_extract.measure(range(3), range(3))\n",
    "    results = AerSimulator().run(qc_extract, shots=2048).result()\n",
    "    answer = results.get_counts()\n",
    "    answer = {f\"{k[0]}|{k[1:]}\": v for k, v in answer.items()}\n",
    "    return answer\n",
    "\n",
    "plot_histogram(histogram_final_state(eigs[:, idxs[0]]))"
   ]
  },
  {
   "cell_type": "markdown",
   "metadata": {},
   "source": [
    "## Adiabatic Evolution\n",
    "\n",
    "We can now put all the pieces to perform the adiabatic evolution\n",
    "\n",
    "$$\n",
    "\\text{GroundState}(H_0) \\rightarrow \\text{GroundState}(H_1) \\,.\n",
    "$$\n",
    "\n",
    "In essense, we linearly evolve $H_{clockinit}$ to $H_{propagate}$ since $H_{input}$ and $H_{clock}$ are constant.\n",
    "\n",
    "\\begin{align*}\n",
    "H(s) & = (1 - s)H_{init} + sH_{final} \\\\\n",
    "& = H_{init} + s(H_{final} - H_{init}) \\\\\n",
    "& = H_{init} + s(H_{input} + H_{clock} + H_{l sum} - (H_{input} + H_{clock} + H_{clockinit})) \\\\\n",
    "& = H_{init} + s(H_{l sum} - H_{clockinit}) \\\\\n",
    "& = H_{input} + H_{clock} + H_{clockinit} + s(H_{l sum} - H_{clockinit}) \\\\\n",
    "& = H_{input} + H_{clock} + (1 - s)H_{clockinit} + sH_{l sum} \\\\\n",
    "\\end{align*}"
   ]
  },
  {
   "cell_type": "code",
   "execution_count": 21,
   "metadata": {},
   "outputs": [
    {
     "name": "stderr",
     "output_type": "stream",
     "text": [
      "/var/folders/4y/c1cn6w0n0_b0s21cb4cb4tp80000gn/T/ipykernel_62069/1635389874.py:12: DeprecationWarning: Treating CircuitInstruction as an iterable is deprecated legacy behavior since Qiskit 1.2, and will be removed in Qiskit 2.0. Instead, use the `operation`, `qubits` and `clbits` named attributes.\n",
      "  gate = gate_data[0]\n"
     ]
    },
    {
     "data": {
      "text/latex": [
       "$$(0.4820350634 - 0.3124034878 i) |000\\rangle+(0.3486873206 - 0.2056874902 i) |010\\rangle+(0.3606029726 - 0.2027274877 i) |011\\rangle+(0.3486873206 - 0.2056874902 i) |110\\rangle+(0.3606029726 - 0.2027274877 i) |111\\rangle$$"
      ],
      "text/plain": [
       "<IPython.core.display.Latex object>"
      ]
     },
     "execution_count": 21,
     "metadata": {},
     "output_type": "execute_result"
    }
   ],
   "source": [
    "def compute_T(qc):\n",
    "    # T = L^6 for 5-local translation.\n",
    "    L = sum(qc.count_ops().values())\n",
    "    return L**6\n",
    "\n",
    "def transpile(qc: QuantumCircuit) -> np.ndarray:\n",
    "    def linear_interpolation(H_0, H_1, T):\n",
    "        def s(t):\n",
    "            return t / T\n",
    "        H_s = [[H_0, lambda t: 1 - s(t)], [H_1, s]]\n",
    "        return H_s\n",
    "\n",
    "    return linear_interpolation(\n",
    "        Qobj(mk_H_0(qc), dims=[[2, 2, 2], [2, 2, 2]]),\n",
    "        Qobj(mk_H_1(qc), dims=[[2, 2, 2], [2, 2, 2]]),\n",
    "        compute_T(qc)\n",
    "    )\n",
    "\n",
    "T = compute_T(qc)\n",
    "times = np.linspace(0, T, 500)\n",
    "z = basis(2, 0)\n",
    "result = mesolve(transpile(qc), tensor(z, tensor(z, z)), times, [], [])\n",
    "pretty(result.final_state)"
   ]
  },
  {
   "cell_type": "code",
   "execution_count": 22,
   "metadata": {},
   "outputs": [
    {
     "data": {
      "image/png": "[encoded data removed]",
      "text/plain": [
       "<Figure size 640x480 with 1 Axes>"
      ]
     },
     "execution_count": 22,
     "metadata": {},
     "output_type": "execute_result"
    }
   ],
   "source": [
    "final_state_p = Statevector(result.final_state.full()) \n",
    "plot_histogram(histogram_final_state(final_state_p))"
   ]
  },
  {
   "cell_type": "markdown",
   "metadata": {},
   "source": [
    "## Summary\n",
    "\n",
    "1. We saw that adiabatic quantum computation is universal.\n",
    "2. We reviewed the main idea of the proof based on the Feynman-Kitaev clock via example."
   ]
  },
  {
   "cell_type": "markdown",
   "metadata": {},
   "source": [
    "## References\n",
    "\n",
    "[1] (Adiabatic Quantum Computation is Equivalent to Standard Quantum Computation)[https://arxiv.org/pdf/quant-ph/0405098]"
   ]
  }
 ],
 "metadata": {
  "kernelspec": {
   "display_name": "learn",
   "language": "python",
   "name": "python3"
  },
  "language_info": {
   "codemirror_mode": {
    "name": "ipython",
    "version": 3
   },
   "file_extension": ".py",
   "mimetype": "text/x-python",
   "name": "python",
   "nbconvert_exporter": "python",
   "pygments_lexer": "ipython3",
   "version": "3.12.4"
  }
 },
 "nbformat": 4,
 "nbformat_minor": 2
}
