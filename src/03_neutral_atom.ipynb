{
 "cells": [
  {
   "cell_type": "code",
   "execution_count": 1,
   "metadata": {},
   "outputs": [],
   "source": [
    "from bloqade import start\n",
    "from bloqade.constants import RB_C6\n",
    "from qutip import sigmax, basis, mesolve, tensor, Qobj\n",
    "import numpy as np\n",
    "\n",
    "from util import zero, one, pretty, plot_histogram, histogram_final_state, invert_keys"
   ]
  },
  {
   "cell_type": "markdown",
   "metadata": {},
   "source": [
    "# Neutral Atom Quantum Computing\n",
    "\n",
    "In this notebook, we will introduce **Neutral Atom Quantum Computing**. Neutral Atom QC uses properties of Rydberg atoms to implement quantum computations."
   ]
  },
  {
   "cell_type": "markdown",
   "metadata": {},
   "source": [
    "## Rydberg Atoms\n",
    "\n",
    "A **Rydberg atom** is any atom that has one or more excited electrons whose distance (on average) from the nucleus is large. This means that a Rydberg atom placed in proximity to another one can have excited electrons that can interact with another to exhibit quantum effects such as entanglement. The ground state of a Rydberg atom is notated $\\ket{g}$ and the excited state is notated $\\ket{r}$. We can encode\n",
    "\n",
    "1. $\\ket{0} = \\ket{g}$\n",
    "2. $\\ket{1} = \\ket{r}$\n",
    "\n",
    "to perform quantum computations with Rydberg atoms."
   ]
  },
  {
   "cell_type": "markdown",
   "metadata": {},
   "source": [
    "### Rubidium Atoms\n",
    "\n",
    "The Aquila neutral atom quantum computer [3] [4] uses Rubidium (Rb37) atoms as its implementation of a Rydberg atom. In the example below, we have place 4 Rydberg atoms on a tabletop."
   ]
  },
  {
   "cell_type": "code",
   "execution_count": 2,
   "metadata": {},
   "outputs": [
    {
     "name": "stdout",
     "output_type": "stream",
     "text": [
      "                                   \u001b[0m\u001b[38;5;15mAtom Positions\u001b[0m                               \u001b[0m\n",
      "    \u001b[0m\u001b[38;5;15m┌──────────────────────────────────────────────────────────────────────────┐\u001b[0m\n",
      "\u001b[38;5;15m5.00┤\u001b[0m\u001b[38;2;100;55;255m•\u001b[0m                                                                        \u001b[0m\u001b[38;2;100;55;255m•\u001b[0m\u001b[38;5;15m│\u001b[0m\n",
      "    \u001b[0m\u001b[38;5;15m│\u001b[0m                                                                          \u001b[0m\u001b[38;5;15m│\u001b[0m\n",
      "    \u001b[0m\u001b[38;5;15m│\u001b[0m                                                                          \u001b[0m\u001b[38;5;15m│\u001b[0m\n",
      "\u001b[38;5;15m4.17┤\u001b[0m                                                                          \u001b[0m\u001b[38;5;15m│\u001b[0m\n",
      "    \u001b[0m\u001b[38;5;15m│\u001b[0m                                                                          \u001b[0m\u001b[38;5;15m│\u001b[0m\n",
      "    \u001b[0m\u001b[38;5;15m│\u001b[0m                                                                          \u001b[0m\u001b[38;5;15m│\u001b[0m\n",
      "\u001b[38;5;15m3.33┤\u001b[0m                                                                          \u001b[0m\u001b[38;5;15m│\u001b[0m\n",
      "    \u001b[0m\u001b[38;5;15m│\u001b[0m                                                                          \u001b[0m\u001b[38;5;15m│\u001b[0m\n",
      "    \u001b[0m\u001b[38;5;15m│\u001b[0m                                                                          \u001b[0m\u001b[38;5;15m│\u001b[0m\n",
      "\u001b[38;5;15m2.50┤\u001b[0m                                                                          \u001b[0m\u001b[38;5;15m│\u001b[0m\n",
      "    \u001b[0m\u001b[38;5;15m│\u001b[0m                                                                          \u001b[0m\u001b[38;5;15m│\u001b[0m\n",
      "    \u001b[0m\u001b[38;5;15m│\u001b[0m                                                                          \u001b[0m\u001b[38;5;15m│\u001b[0m\n",
      "\u001b[38;5;15m1.67┤\u001b[0m                                                                          \u001b[0m\u001b[38;5;15m│\u001b[0m\n",
      "    \u001b[0m\u001b[38;5;15m│\u001b[0m                                                                          \u001b[0m\u001b[38;5;15m│\u001b[0m\n",
      "    \u001b[0m\u001b[38;5;15m│\u001b[0m                                                                          \u001b[0m\u001b[38;5;15m│\u001b[0m\n",
      "\u001b[38;5;15m0.83┤\u001b[0m                                                                          \u001b[0m\u001b[38;5;15m│\u001b[0m\n",
      "    \u001b[0m\u001b[38;5;15m│\u001b[0m                                                                          \u001b[0m\u001b[38;5;15m│\u001b[0m\n",
      "    \u001b[0m\u001b[38;5;15m│\u001b[0m                                                                          \u001b[0m\u001b[38;5;15m│\u001b[0m\n",
      "\u001b[38;5;15m0.00┤\u001b[0m\u001b[38;2;100;55;255m•\u001b[0m                                                                        \u001b[0m\u001b[38;2;100;55;255m•\u001b[0m\u001b[38;5;15m│\u001b[0m\n",
      "    \u001b[0m\u001b[38;5;15m└┬─────────────────┬──────────────────┬─────────────────┬─────────────────┬┘\u001b[0m\n",
      "    \u001b[0m\u001b[38;5;15m0.0\u001b[0m               \u001b[0m\u001b[38;5;15m1.2\u001b[0m                \u001b[0m\u001b[38;5;15m2.5\u001b[0m               \u001b[0m\u001b[38;5;15m3.8\u001b[0m              \u001b[0m\u001b[38;5;15m5.0\u001b[0m \u001b[0m\n",
      "\u001b[38;5;15my (um)\u001b[0m                                 \u001b[0m\u001b[38;5;15mx (um)\u001b[0m                                   \u001b[0m\n",
      "\n"
     ]
    }
   ],
   "source": [
    "register = start.add_position([\n",
    "    (0, 0), # 1\n",
    "    (5, 0), # 2\n",
    "    (0, 5), # 3\n",
    "    (5, 5), # 4\n",
    "])  # (um)\n",
    "print(register)"
   ]
  },
  {
   "cell_type": "markdown",
   "metadata": {},
   "source": [
    "In the above, we have 4 Rydberg atoms \n",
    "\n",
    "$$\n",
    "\\ket{\\psi} = \\ket{q_4 q_3 q_2 q_1} \\,.\n",
    "$$"
   ]
  },
  {
   "cell_type": "markdown",
   "metadata": {},
   "source": [
    "## Rydberg Hamiltonian\n",
    "\n",
    "Rydberg atoms are governed by the **Rydberg Hamiltonian**. We'll begin with a 1 qubit example of a Rydberg Hamiltonian before working our way to the general case."
   ]
  },
  {
   "cell_type": "markdown",
   "metadata": {},
   "source": [
    "### Single Qubit\n",
    "\n",
    "The **Rydberg Hamiltonian** on a single qubit (i.e., Rydberg atom) is given as\n",
    "\n",
    "\\begin{align*}\n",
    "\\frac{1}{\\hbar} H_{\\text{Rydberg}}(t) & = \n",
    "\\underbrace{\\frac{\\Omega(t)}{2} \\begin{pmatrix}\n",
    "0 & e^{i\\phi(t)} \\\\\n",
    " e^{-i\\phi(t)} & 0\n",
    "\\end{pmatrix}}_{H_\\text{couple}} -\n",
    "\\underbrace{\\begin{pmatrix}\n",
    "0 & 0 \\\\\n",
    "0 & \\Delta(t)\n",
    "\\end{pmatrix}}_{{H_\\text{detune}}}\n",
    "\\\\\n",
    "& = \\begin{pmatrix}\n",
    "0 & \\frac{\\Omega(t)}{2} e^{i\\phi(t)} \\\\\n",
    "\\frac{\\Omega(t)}{2} e^{-i\\phi(t)} & -\\Delta(t)\n",
    "\\end{pmatrix} \n",
    "\\end{align*}\n",
    "\n",
    "where \n",
    "1. $\\Omega(t)$ is a **Rabi frequency**,\n",
    "2. $\\phi(t)$ is the **Rabi phase**, and\n",
    "3. $\\Delta(t)$ is the **detuning** of the driving laser."
   ]
  },
  {
   "cell_type": "code",
   "execution_count": 3,
   "metadata": {},
   "outputs": [],
   "source": [
    "def H_couple1(Omega, phi, t):\n",
    "    return Omega(t)/2 * Qobj(np.array([\n",
    "        [0.0, np.exp(1j * phi(t))],\n",
    "        [np.exp(-1j * phi(t)), 0.0],\n",
    "    ]))\n",
    "\n",
    "def H_detune1(Delta, t):\n",
    "    return Qobj(np.array([\n",
    "        [0.0, 0.0],\n",
    "        [0.0, Delta(t)],\n",
    "    ]))\n",
    "\n",
    "def H_rydberg1(Omega, phi, Delta, t):\n",
    "    return H_couple1(Omega, phi, t) - H_detune1(Delta, t)"
   ]
  },
  {
   "cell_type": "markdown",
   "metadata": {},
   "source": [
    "#### Pauli-X Gate\n",
    "\n",
    "We can encode a Pauli-X gate with a Rydberg Hamiltonian."
   ]
  },
  {
   "cell_type": "code",
   "execution_count": 4,
   "metadata": {},
   "outputs": [
    {
     "data": {
      "text/latex": [
       "$$\n",
       "\n",
       "\\begin{bmatrix}\n",
       "0 & 1  \\\\\n",
       " 1 & 0  \\\\\n",
       " \\end{bmatrix}\n",
       "$$"
      ],
      "text/plain": [
       "<IPython.core.display.Latex object>"
      ]
     },
     "execution_count": 4,
     "metadata": {},
     "output_type": "execute_result"
    }
   ],
   "source": [
    "Omega = lambda t: 2\n",
    "phi = lambda t: 0\n",
    "Delta = lambda t: 0\n",
    "\n",
    "sigma_x = H_rydberg1(Omega, phi, Delta, 0)\n",
    "pretty(sigma_x.full())"
   ]
  },
  {
   "cell_type": "markdown",
   "metadata": {},
   "source": [
    "Notice that we have recreated the Hamiltonian for a Pauli-X (up to a scale)."
   ]
  },
  {
   "cell_type": "code",
   "execution_count": 5,
   "metadata": {},
   "outputs": [
    {
     "data": {
      "text/latex": [
       "$$\n",
       "\n",
       "\\begin{bmatrix}\n",
       "0 & 1  \\\\\n",
       " 1 & 0  \\\\\n",
       " \\end{bmatrix}\n",
       "$$"
      ],
      "text/plain": [
       "<IPython.core.display.Latex object>"
      ]
     },
     "execution_count": 5,
     "metadata": {},
     "output_type": "execute_result"
    }
   ],
   "source": [
    "pretty(sigmax().full())"
   ]
  },
  {
   "cell_type": "code",
   "execution_count": 6,
   "metadata": {},
   "outputs": [
    {
     "data": {
      "text/latex": [
       "$$\n",
       "\n",
       "\\begin{bmatrix}\n",
       "0 & - i  \\\\\n",
       " - i & 0  \\\\\n",
       " \\end{bmatrix}\n",
       "$$"
      ],
      "text/plain": [
       "<IPython.core.display.Latex object>"
      ]
     },
     "execution_count": 6,
     "metadata": {},
     "output_type": "execute_result"
    }
   ],
   "source": [
    "RX_gate = (-1j * sigma_x * np.pi/2).expm()\n",
    "pretty(RX_gate.full())"
   ]
  },
  {
   "cell_type": "markdown",
   "metadata": {},
   "source": [
    "We can adjust the phase picked up by the Hamiltonian by adjusting $\\phi$."
   ]
  },
  {
   "cell_type": "code",
   "execution_count": 7,
   "metadata": {},
   "outputs": [
    {
     "data": {
      "text/latex": [
       "$$\n",
       "\n",
       "\\begin{bmatrix}\n",
       "0 & - i  \\\\\n",
       " i & 0  \\\\\n",
       " \\end{bmatrix}\n",
       "$$"
      ],
      "text/plain": [
       "<IPython.core.display.Latex object>"
      ]
     },
     "execution_count": 7,
     "metadata": {},
     "output_type": "execute_result"
    }
   ],
   "source": [
    "Omega = lambda t: 2\n",
    "phi = lambda t: 3*np.pi/2\n",
    "Delta = lambda t: 0\n",
    "\n",
    "X = H_rydberg1(Omega, phi, Delta, 0)\n",
    "pretty(X.full())"
   ]
  },
  {
   "cell_type": "markdown",
   "metadata": {},
   "source": [
    "#### Bloqade\n",
    "\n",
    "Bloqade gives us a Python interface to neutral atom quantum hardware. We can write a program for neutral atom quantum hardware by writing down the Rydberg Hamiltonian. To do this, we specify qubits by placing them on $(x, y)$ locations on a 2D plane. We then control the computation by specifying $\\Omega(t)$, $\\phi(t)$, and $\\Delta(t)$ as waveforms that encode the time-dependent signals."
   ]
  },
  {
   "cell_type": "code",
   "execution_count": 8,
   "metadata": {},
   "outputs": [
    {
     "name": "stdout",
     "output_type": "stream",
     "text": [
      "Routine\n",
      "                                   \u001b[0m\u001b[38;5;15mAtom Positions\u001b[0m                               \u001b[0m\n",
      "     \u001b[0m\u001b[38;5;15m┌─────────────────────────────────────────────────────────────────────────┐\u001b[0m\n",
      "\u001b[38;5;15m 1.00┤\u001b[0m                                                                         \u001b[0m\u001b[38;5;15m│\u001b[0m\n",
      "     \u001b[0m\u001b[38;5;15m│\u001b[0m                                                                         \u001b[0m\u001b[38;5;15m│\u001b[0m\n",
      "     \u001b[0m\u001b[38;5;15m│\u001b[0m                                                                         \u001b[0m\u001b[38;5;15m│\u001b[0m\n",
      "\u001b[38;5;15m 0.67┤\u001b[0m                                                                         \u001b[0m\u001b[38;5;15m│\u001b[0m\n",
      "     \u001b[0m\u001b[38;5;15m│\u001b[0m                                                                         \u001b[0m\u001b[38;5;15m│\u001b[0m\n",
      "     \u001b[0m\u001b[38;5;15m│\u001b[0m                                                                         \u001b[0m\u001b[38;5;15m│\u001b[0m\n",
      "\u001b[38;5;15m 0.33┤\u001b[0m                                                                         \u001b[0m\u001b[38;5;15m│\u001b[0m\n",
      "     \u001b[0m\u001b[38;5;15m│\u001b[0m                                                                         \u001b[0m\u001b[38;5;15m│\u001b[0m\n",
      "     \u001b[0m\u001b[38;5;15m│\u001b[0m                                                                         \u001b[0m\u001b[38;5;15m│\u001b[0m\n",
      "\u001b[38;5;15m 0.00┤\u001b[0m                                    \u001b[0m\u001b[38;2;100;55;255m•\u001b[0m                                    \u001b[0m\u001b[38;5;15m│\u001b[0m\n",
      "     \u001b[0m\u001b[38;5;15m│\u001b[0m                                                                         \u001b[0m\u001b[38;5;15m│\u001b[0m\n",
      "     \u001b[0m\u001b[38;5;15m│\u001b[0m                                                                         \u001b[0m\u001b[38;5;15m│\u001b[0m\n",
      "\u001b[38;5;15m-0.33┤\u001b[0m                                                                         \u001b[0m\u001b[38;5;15m│\u001b[0m\n",
      "     \u001b[0m\u001b[38;5;15m│\u001b[0m                                                                         \u001b[0m\u001b[38;5;15m│\u001b[0m\n",
      "     \u001b[0m\u001b[38;5;15m│\u001b[0m                                                                         \u001b[0m\u001b[38;5;15m│\u001b[0m\n",
      "\u001b[38;5;15m-0.67┤\u001b[0m                                                                         \u001b[0m\u001b[38;5;15m│\u001b[0m\n",
      "     \u001b[0m\u001b[38;5;15m│\u001b[0m                                                                         \u001b[0m\u001b[38;5;15m│\u001b[0m\n",
      "     \u001b[0m\u001b[38;5;15m│\u001b[0m                                                                         \u001b[0m\u001b[38;5;15m│\u001b[0m\n",
      "\u001b[38;5;15m-1.00┤\u001b[0m                                                                         \u001b[0m\u001b[38;5;15m│\u001b[0m\n",
      "     \u001b[0m\u001b[38;5;15m└┬─────────────────┬─────────────────┬─────────────────┬─────────────────┬┘\u001b[0m\n",
      "    \u001b[0m\u001b[38;5;15m-1.00\u001b[0m             \u001b[0m\u001b[38;5;15m-0.50\u001b[0m             \u001b[0m\u001b[38;5;15m0.00\u001b[0m              \u001b[0m\u001b[38;5;15m0.50\u001b[0m             \u001b[0m\u001b[38;5;15m1.00\u001b[0m \u001b[0m\n",
      "\u001b[38;5;15my (um)\u001b[0m                                 \u001b[0m\u001b[38;5;15mx (um)\u001b[0m                                   \u001b[0m\n",
      "\n",
      "Sequence\n",
      "└─ RydbergLevelCoupling\n",
      "   ⇒ Pulse\n",
      "     ├─ RabiFrequencyAmplitude\n",
      "     │  ⇒ Field\n",
      "     │    └─ Drive\n",
      "     │       ├─ modulation\n",
      "     │       │  ⇒ UniformModulation\n",
      "     │       └─ waveform\n",
      "     │          ⇒ Constant\n",
      "     │            ├─ value\n",
      "     │            │  ⇒ \u001b[93mLiteral: 15\u001b[0m\n",
      "     │            └─ duration\n",
      "     │               ⇒ \u001b[93mLiteral: 3.141592653589793\u001b[0m\n",
      "     ├─ RabiFrequencyPhase\n",
      "     │  ⇒ Field\n",
      "     │    └─ Drive\n",
      "     │       ├─ modulation\n",
      "     │       │  ⇒ UniformModulation\n",
      "     │       └─ waveform\n",
      "     │          ⇒ Constant\n",
      "     │            ├─ value\n",
      "     │            │  ⇒ \u001b[93mLiteral: 0\u001b[0m\n",
      "     │            └─ duration\n",
      "     │               ⇒ \u001b[93mLiteral: 3.141592653589793\u001b[0m\n",
      "     └─ Detuning\n",
      "        ⇒ Field\n",
      "          └─ Drive\n",
      "             ├─ modulation\n",
      "             │  ⇒ UniformModulation\n",
      "             └─ waveform\n",
      "                ⇒ Constant\n",
      "                  ├─ value\n",
      "                  │  ⇒ \u001b[93mLiteral: 0\u001b[0m\n",
      "                  └─ duration\n",
      "                     ⇒ \u001b[93mLiteral: 3.141592653589793\u001b[0m\n",
      "---------------------\n",
      "> Static params:\n",
      "\n",
      "> Batch params:\n",
      "- batch 0:\n",
      "\n",
      "> Arguments:\n",
      "  ()\n"
     ]
    }
   ],
   "source": [
    "T = np.pi\n",
    "register = start.add_position([(0, 0)])  # (um)\n",
    "program = (\n",
    "    register\n",
    "    .rydberg.rabi.amplitude.uniform.piecewise_constant( # Omega = lambda t: 15\n",
    "        durations=[T],\n",
    "        values=[15]\n",
    "    )\n",
    "    .rydberg.rabi.phase.uniform.piecewise_constant( # phi = lambda t: 0\n",
    "        durations=[T],\n",
    "        values=[0]\n",
    "    )\n",
    "    .rydberg.detuning.uniform.piecewise_constant( # Delta = lambda t: 0\n",
    "        durations=[T],\n",
    "        values=[0]\n",
    "    )\n",
    ")\n",
    "print(program)"
   ]
  },
  {
   "cell_type": "code",
   "execution_count": 9,
   "metadata": {},
   "outputs": [
    {
     "data": {
      "text/plain": [
       "[OrderedDict([('1', 1000)])]"
      ]
     },
     "execution_count": 9,
     "metadata": {},
     "output_type": "execute_result"
    }
   ],
   "source": [
    "results = program.bloqade.python().run(1000)\n",
    "report = results.report()\n",
    "invert_keys(report.counts())"
   ]
  },
  {
   "cell_type": "markdown",
   "metadata": {},
   "source": [
    "### General Case\n",
    "\n",
    "The Rydberg Hamiltonian in the general case is given as\n",
    "\n",
    "$$\n",
    "\\frac{H(t)}{\\hbar} = H_\\text{coupling} - H_\\text{detune} + H_\\text{interaction}\\,.\n",
    "$$\n",
    "\n",
    "Compared to the single qubit case, we will have a generalization of $H_\\text{coupling}$ and $H_\\text{detune}$ as well as an additional term $H_\\text{interaction}$ that will enable us to entangle qubits. We'll go over each term now."
   ]
  },
  {
   "cell_type": "markdown",
   "metadata": {},
   "source": [
    "#### Coupling Term\n",
    "\n",
    "The term \n",
    "\n",
    "$$\n",
    "H_\\text{coupling} = \\frac{\\Omega(t)}{2} \\sum_{j=1}^n (e^{i\\phi_j(t)} |g_j\\rangle\\langle r_j| + e^{-i\\phi_j(t)} |r_j\\rangle\\langle g_j|)\n",
    "$$\n",
    "\n",
    "decribes the strength of the **coupling** between the ground state $\\ket{g_j}$ and the excited state $\\ket{r_j}$.\n",
    "\n",
    "1. The notation $|g_j\\rangle \\langle r_j| = I(j-1) \\otimes |g\\rangle\\langle r| \\otimes I(n - j - 1)$ selects the $j$-th qubit.\n",
    "2. $\\Omega_j(t)$ gives the **Rabi frequency** as a function of time. \n",
    "3. $\\phi_j(t)$ gives the **Rabi phase** as a function of time."
   ]
  },
  {
   "cell_type": "code",
   "execution_count": 10,
   "metadata": {},
   "outputs": [
    {
     "data": {
      "text/latex": [
       "$$\n",
       "\n",
       "\\begin{bmatrix}\n",
       "0 & \\frac{15}{2} & \\frac{15}{2} & 0  \\\\\n",
       " \\frac{15}{2} & 0 & 0 & \\frac{15}{2}  \\\\\n",
       " \\frac{15}{2} & 0 & 0 & \\frac{15}{2}  \\\\\n",
       " 0 & \\frac{15}{2} & \\frac{15}{2} & 0  \\\\\n",
       " \\end{bmatrix}\n",
       "$$"
      ],
      "text/plain": [
       "<IPython.core.display.Latex object>"
      ]
     },
     "execution_count": 10,
     "metadata": {},
     "output_type": "execute_result"
    }
   ],
   "source": [
    "def mk_H_couple(n, Omega, phi):\n",
    "    sigma_x = Omega / 2 * (np.exp(1j * phi) * np.outer(zero, one) + np.exp(-1j * phi) * np.outer(one, zero))\n",
    "    H = np.zeros((2**n, 2**n), dtype=np.complex128)\n",
    "    for j in range(n):\n",
    "        if j == 0:\n",
    "            H += np.kron(sigma_x, np.eye(2**(n-1)))\n",
    "        elif j == n - 1:\n",
    "            H += np.kron(np.eye(2**(n-1)), sigma_x)\n",
    "        else:\n",
    "            H += np.kron(np.eye(2**j), np.kron(sigma_x, np.eye(2**(n-j-1))))\n",
    "    return H\n",
    "\n",
    "Omega = 15\n",
    "phi = 0\n",
    "H_couple = mk_H_couple(2, Omega, phi)\n",
    "pretty(H_couple)"
   ]
  },
  {
   "cell_type": "markdown",
   "metadata": {},
   "source": [
    "##### Coupling as $\\sigma_x$\n",
    "\n",
    "We can rewrite\n",
    "\n",
    "$$\n",
    "H_\\text{coupling} = \\frac{\\Omega(t)}{2} \\sum_{j=1}^n \\sigma_x^j |g_j\\rangle\\langle r_j| \n",
    "$$\n",
    "\n",
    "where \n",
    "1. $\\sigma_x^j$ is the Pauli-X gate applied to the $j$-th qubit and\n",
    "2. $|g_j\\rangle \\langle r_j| = I(j-1) \\otimes |g\\rangle\\langle r| \\otimes I(n - j - 1)$ selects the $j$-th qubit.\n",
    "\n",
    "Thus we can think of the coupling term as applying $\\sigma_x$ to each qubit."
   ]
  },
  {
   "cell_type": "markdown",
   "metadata": {},
   "source": [
    "### Detuning Term\n",
    "\n",
    "The detuing term is defined as\n",
    "\n",
    "$$\n",
    "H_\\text{detune} = -\\Delta(t) \\sum_{j=1}^n \\hat{n}_j\n",
    "$$\n",
    "\n",
    "where $\\hat{n}_j = |r_j\\rangle\\langle r_j|$ is the **number operator**."
   ]
  },
  {
   "cell_type": "code",
   "execution_count": 11,
   "metadata": {},
   "outputs": [
    {
     "data": {
      "text/latex": [
       "$$\n",
       "\n",
       "\\begin{bmatrix}\n",
       "0 & 0 & 0 & 0  \\\\\n",
       " 0 & -15 & 0 & 0  \\\\\n",
       " 0 & 0 & -15 & 0  \\\\\n",
       " 0 & 0 & 0 & -30  \\\\\n",
       " \\end{bmatrix}\n",
       "$$"
      ],
      "text/plain": [
       "<IPython.core.display.Latex object>"
      ]
     },
     "execution_count": 11,
     "metadata": {},
     "output_type": "execute_result"
    }
   ],
   "source": [
    "def nhats(n: int, j: int) -> np.ndarray:\n",
    "    oo_op = np.outer(one, one)\n",
    "    if j == 0:\n",
    "        return np.kron(oo_op, np.eye(2**(n-1)))\n",
    "    elif j == n - 1:\n",
    "        return np.kron(np.eye(2**(n-1)), oo_op)\n",
    "    else:\n",
    "        return np.kron(np.eye(2**j), np.kron(oo_op, np.eye(2**(n-j-1))))\n",
    "\n",
    "def mk_H_detune(n: int, Delta: float) -> np.ndarray:\n",
    "    H = np.zeros((2**n, 2**n), dtype=np.complex128)\n",
    "    for j in range(n):\n",
    "        H += nhats(n, j)\n",
    "    return Delta * H\n",
    "    \n",
    "# Detune\n",
    "Delta = -15\n",
    "H_detune = mk_H_detune(2, Delta)\n",
    "pretty(H_detune)"
   ]
  },
  {
   "cell_type": "markdown",
   "metadata": {},
   "source": [
    "### Van-dar Waals Interaction Term\n",
    "\n",
    "The final term is the interaction term\n",
    "\n",
    "$$\n",
    "H_\\text{interaction} = \\sum_{j < k} V_{jk} \\hat{n}_j\\hat{n}_k\n",
    "$$\n",
    "\n",
    "where\n",
    "\n",
    "$$\n",
    "V_{jk} = \\frac{C_6}{|x_j - x_K|^6}\n",
    "$$\n",
    "\n",
    "and $x_j$ and $x_k$ are atom positions. This term, when combined with the phenomenon of the **Rydberg bloqade**, is what enables us to create entangled qubits."
   ]
  },
  {
   "cell_type": "code",
   "execution_count": 12,
   "metadata": {},
   "outputs": [
    {
     "name": "stdout",
     "output_type": "stream",
     "text": [
      "                                   \u001b[0m\u001b[38;5;15mAtom Positions\u001b[0m                               \u001b[0m\n",
      "     \u001b[0m\u001b[38;5;15m┌─────────────────────────────────────────────────────────────────────────┐\u001b[0m\n",
      "\u001b[38;5;15m 1.00┤\u001b[0m                                                                         \u001b[0m\u001b[38;5;15m│\u001b[0m\n",
      "     \u001b[0m\u001b[38;5;15m│\u001b[0m                                                                         \u001b[0m\u001b[38;5;15m│\u001b[0m\n",
      "     \u001b[0m\u001b[38;5;15m│\u001b[0m                                                                         \u001b[0m\u001b[38;5;15m│\u001b[0m\n",
      "\u001b[38;5;15m 0.67┤\u001b[0m                                                                         \u001b[0m\u001b[38;5;15m│\u001b[0m\n",
      "     \u001b[0m\u001b[38;5;15m│\u001b[0m                                                                         \u001b[0m\u001b[38;5;15m│\u001b[0m\n",
      "     \u001b[0m\u001b[38;5;15m│\u001b[0m                                                                         \u001b[0m\u001b[38;5;15m│\u001b[0m\n",
      "\u001b[38;5;15m 0.33┤\u001b[0m                                                                         \u001b[0m\u001b[38;5;15m│\u001b[0m\n",
      "     \u001b[0m\u001b[38;5;15m│\u001b[0m                                                                         \u001b[0m\u001b[38;5;15m│\u001b[0m\n",
      "     \u001b[0m\u001b[38;5;15m│\u001b[0m                                                                         \u001b[0m\u001b[38;5;15m│\u001b[0m\n",
      "\u001b[38;5;15m 0.00┤\u001b[0m\u001b[38;2;100;55;255m•\u001b[0m                                                                       \u001b[0m\u001b[38;2;100;55;255m•\u001b[0m\u001b[38;5;15m│\u001b[0m\n",
      "     \u001b[0m\u001b[38;5;15m│\u001b[0m                                                                         \u001b[0m\u001b[38;5;15m│\u001b[0m\n",
      "     \u001b[0m\u001b[38;5;15m│\u001b[0m                                                                         \u001b[0m\u001b[38;5;15m│\u001b[0m\n",
      "\u001b[38;5;15m-0.33┤\u001b[0m                                                                         \u001b[0m\u001b[38;5;15m│\u001b[0m\n",
      "     \u001b[0m\u001b[38;5;15m│\u001b[0m                                                                         \u001b[0m\u001b[38;5;15m│\u001b[0m\n",
      "     \u001b[0m\u001b[38;5;15m│\u001b[0m                                                                         \u001b[0m\u001b[38;5;15m│\u001b[0m\n",
      "\u001b[38;5;15m-0.67┤\u001b[0m                                                                         \u001b[0m\u001b[38;5;15m│\u001b[0m\n",
      "     \u001b[0m\u001b[38;5;15m│\u001b[0m                                                                         \u001b[0m\u001b[38;5;15m│\u001b[0m\n",
      "     \u001b[0m\u001b[38;5;15m│\u001b[0m                                                                         \u001b[0m\u001b[38;5;15m│\u001b[0m\n",
      "\u001b[38;5;15m-1.00┤\u001b[0m                                                                         \u001b[0m\u001b[38;5;15m│\u001b[0m\n",
      "     \u001b[0m\u001b[38;5;15m└┬─────────────────┬─────────────────┬─────────────────┬─────────────────┬┘\u001b[0m\n",
      "     \u001b[0m\u001b[38;5;15m0.0\u001b[0m               \u001b[0m\u001b[38;5;15m1.2\u001b[0m               \u001b[0m\u001b[38;5;15m2.5\u001b[0m               \u001b[0m\u001b[38;5;15m3.8\u001b[0m              \u001b[0m\u001b[38;5;15m5.0\u001b[0m \u001b[0m\n",
      "\u001b[38;5;15my (um)\u001b[0m                                 \u001b[0m\u001b[38;5;15mx (um)\u001b[0m                                   \u001b[0m\n",
      "\n"
     ]
    }
   ],
   "source": [
    "register = start.add_position([\n",
    "    (0, 0), # (um)\n",
    "    (5, 0)  # (um)\n",
    "])\n",
    "print(register)"
   ]
  },
  {
   "cell_type": "code",
   "execution_count": 13,
   "metadata": {},
   "outputs": [
    {
     "data": {
      "text/plain": [
       "array([[  0.        ,   0.        ],\n",
       "       [346.90823249,   0.        ]])"
      ]
     },
     "execution_count": 13,
     "metadata": {},
     "output_type": "execute_result"
    }
   ],
   "source": [
    "V_jk = register.rydberg_interaction()\n",
    "V_jk"
   ]
  },
  {
   "cell_type": "code",
   "execution_count": 14,
   "metadata": {},
   "outputs": [
    {
     "data": {
      "text/plain": [
       "np.float64(346.90823248964847)"
      ]
     },
     "execution_count": 14,
     "metadata": {},
     "output_type": "execute_result"
    }
   ],
   "source": [
    "def interaction_strength(x, y):\n",
    "    return RB_C6 / np.linalg.norm((x - y)) ** 6\n",
    "\n",
    "interaction_strength(np.array([0, 0]), np.array([5, 0]))"
   ]
  },
  {
   "cell_type": "code",
   "execution_count": 15,
   "metadata": {},
   "outputs": [
    {
     "name": "stdout",
     "output_type": "stream",
     "text": [
      "1 0\n"
     ]
    },
    {
     "data": {
      "text/latex": [
       "$$\n",
       "\n",
       "\\begin{bmatrix}\n",
       "0 & 0 & 0 & 0  \\\\\n",
       " 0 & 0 & 0 & 0  \\\\\n",
       " 0 & 0 & 0 & 0  \\\\\n",
       " 0 & 0 & 0 & 346.9082324896  \\\\\n",
       " \\end{bmatrix}\n",
       "$$"
      ],
      "text/plain": [
       "<IPython.core.display.Latex object>"
      ]
     },
     "execution_count": 15,
     "metadata": {},
     "output_type": "execute_result"
    }
   ],
   "source": [
    "def mk_H_interaction(n, register):\n",
    "    V_jk = register.rydberg_interaction()\n",
    "    H_interaction = np.zeros((2**n, 2**n), dtype=np.complex128)\n",
    "    for row in range(0, n):\n",
    "        for col in range(0, row+1):\n",
    "            if row != col:\n",
    "                print(row, col)\n",
    "                H_interaction += V_jk[row, col] * nhats(n, col) @ nhats(n, row)\n",
    "    return H_interaction\n",
    "\n",
    "H_interaction = mk_H_interaction(2, register)\n",
    "pretty(H_interaction)"
   ]
  },
  {
   "cell_type": "markdown",
   "metadata": {},
   "source": [
    "#### Putting it together\n",
    "\n",
    "We can finally put together the Rydberg Hamiltonian\n",
    "\n",
    "$$\n",
    "\\frac{H(t)}{\\hbar} = H_\\text{coupling} - H_\\text{detune} + H_\\text{interaction}\\,.\n",
    "$$"
   ]
  },
  {
   "cell_type": "code",
   "execution_count": 16,
   "metadata": {},
   "outputs": [
    {
     "name": "stdout",
     "output_type": "stream",
     "text": [
      "1 0\n"
     ]
    },
    {
     "data": {
      "text/latex": [
       "$$\n",
       "\n",
       "\\begin{bmatrix}\n",
       "0 & \\frac{15}{2} & \\frac{15}{2} & 0  \\\\\n",
       " \\frac{15}{2} & 15 & 0 & \\frac{15}{2}  \\\\\n",
       " \\frac{15}{2} & 0 & 15 & \\frac{15}{2}  \\\\\n",
       " 0 & \\frac{15}{2} & \\frac{15}{2} & 376.9082324896  \\\\\n",
       " \\end{bmatrix}\n",
       "$$"
      ],
      "text/plain": [
       "<IPython.core.display.Latex object>"
      ]
     },
     "execution_count": 16,
     "metadata": {},
     "output_type": "execute_result"
    }
   ],
   "source": [
    "def mk_H_Rydberg(n, Omega, phi, Delta, register):\n",
    "    H_couple = mk_H_couple(n, Omega, phi)\n",
    "    H_detune = mk_H_detune(n, Delta)\n",
    "    H_interaction = mk_H_interaction(n, register)\n",
    "    return H_couple - H_detune + H_interaction\n",
    "\n",
    "H_rydberg = mk_H_Rydberg(2, Omega, phi, Delta, register)\n",
    "pretty(H_rydberg)"
   ]
  },
  {
   "cell_type": "markdown",
   "metadata": {},
   "source": [
    "#### Two Qubit Case\n",
    "\n",
    "Written out, the two qubit case is\n",
    "\n",
    "\\begin{align*}\n",
    "\\frac{1}{\\hbar} H_{\\text{Rydberg}}(t) & = \n",
    "\\underbrace{\\begin{pmatrix}\n",
    "0 & \\frac{\\Omega_2(t)}{2} e^{i\\phi_2(t)} & \\frac{\\Omega_1(t)}{2} e^{i\\phi_1(t)} & 0 \\\\\n",
    "\\frac{\\Omega_2(t)}{2} e^{-i\\phi_2(t)} & 0 & 0 & \\frac{\\Omega_1(t)}{2} e^{i\\phi_1(t)} \\\\\n",
    "\\frac{\\Omega_1(t)}{2} e^{-i\\phi_1(t)} & 0 & 0 & \\frac{\\Omega_2(t)}{2} e^{i\\phi_2(t)} \\\\\n",
    "0 & \\frac{\\Omega_1(t)}{2} e^{-i\\phi_1(t)} & \\frac{\\Omega_2(t)}{2} e^{-i\\phi_2(t)} & 0\n",
    "\\end{pmatrix}}_{H_\\text{couple}} + \\\\\n",
    "& \\phantom{=} \\underbrace{\\begin{pmatrix}\n",
    "0 & 0 & 0 & 0 \\\\\n",
    "0 & \\Delta_2(t) & 0 & 0 \\\\\n",
    "0 & 0 & \\Delta_1(t) & 0 \\\\\n",
    "0 & 0 & 0 & \\Delta_1(t) + \\Delta_2(t)\n",
    "\\end{pmatrix}}_{H_\\text{detune}} + \\underbrace{\\begin{pmatrix}\n",
    "0 & 0 & 0 & 0 \\\\\n",
    "0 & 0 & 0 & 0 \\\\\n",
    "0 & 0 & 0 & 0 \\\\\n",
    "0 & 0 & 0 & V_{1,2}\n",
    "\\end{pmatrix}}_{H_\\text{interaction}} \\\\\n",
    "& = \\begin{pmatrix}\n",
    "0 & \\frac{\\Omega_2(t)}{2} e^{i\\phi_2(t)} & \\frac{\\Omega_1(t)}{2} e^{i\\phi_1(t)} & 0 \\\\\n",
    "\\frac{\\Omega_2(t)}{2} e^{-i\\phi_2(t)} & \\Delta_2(t) & 0 & \\frac{\\Omega_1(t)}{2} e^{i\\phi_1(t)} \\\\\n",
    "\\frac{\\Omega_1(t)}{2} e^{-i\\phi_1(t)} & 0 & \\Delta_1(t) & \\frac{\\Omega_2(t)}{2} e^{i\\phi_2(t)} \\\\\n",
    "0 & \\frac{\\Omega_1(t)}{2} e^{-i\\phi_1(t)} & \\frac{\\Omega_2(t)}{2} e^{-i\\phi_2(t)} & \\Delta_1(t) + \\Delta_2(t) + V_{1,2}\n",
    "\\end{pmatrix}\n",
    "\\end{align*}"
   ]
  },
  {
   "cell_type": "markdown",
   "metadata": {},
   "source": [
    "#### Bloqade Simulation\n",
    "\n",
    "We can simulate the Rydberg Hamiltonian using Bloqade."
   ]
  },
  {
   "cell_type": "code",
   "execution_count": 17,
   "metadata": {},
   "outputs": [
    {
     "data": {
      "image/png": "[encoded data removed]",
      "text/plain": [
       "<Figure size 640x480 with 1 Axes>"
      ]
     },
     "execution_count": 17,
     "metadata": {},
     "output_type": "execute_result"
    }
   ],
   "source": [
    "def simple_prog(register, T=np.pi/2):\n",
    "    program = (\n",
    "        register\n",
    "        .rydberg.rabi.amplitude.uniform.piecewise_constant( # Omega = lambda t: 15\n",
    "            durations=[T],\n",
    "            values=[15]\n",
    "        )\n",
    "        .rydberg.rabi.phase.uniform.piecewise_constant( # phi = lambda t: 0\n",
    "            durations=[T],\n",
    "            values=[0]\n",
    "        )\n",
    "        .rydberg.detuning.uniform.piecewise_constant( # Delta = lambda t: 0\n",
    "            durations=[T],\n",
    "            values=[0]\n",
    "        )\n",
    "    )\n",
    "    return program\n",
    "\n",
    "register = start.add_position([(0,0), (5,0)])  # (um)\n",
    "results = simple_prog(register).bloqade.python().run(2048)\n",
    "report = results.report()\n",
    "plot_histogram(invert_keys(report.counts()))"
   ]
  },
  {
   "cell_type": "markdown",
   "metadata": {},
   "source": [
    "### Rydberg Blockade\n",
    "\n",
    "The **Rydberg Blockade** is a phenomenon where an excited state of one qubit prevents another nearby qubit from being excited, thus producing the effect of entanglement. In the example above, we \"rarely\" observed the outcome $\\ket{11}$ due to the blockade mechanism. Mathematically, we saw that the distance between the atoms affected the Hamiltonian through the interaction term. The **blockade radius** is defined as\n",
    "\n",
    "$$\n",
    "R_\\text{blockade} = \\left( \\frac{C_6}{\\Omega} \\right)^{1/6} \\,.\n",
    "$$\n",
    "\n",
    "When the distance between two atoms is less than $R_\\text{blockade}$, the excited state of one atom will block the other from getting excited. Outside of $R_\\text{blockade}$, each atom will have less and less of an effect."
   ]
  },
  {
   "cell_type": "code",
   "execution_count": 18,
   "metadata": {},
   "outputs": [
    {
     "name": "stdout",
     "output_type": "stream",
     "text": [
      "Bloqade radius 8.439639489080086 um\n"
     ]
    }
   ],
   "source": [
    "def bloqade_radius(Omega):\n",
    "    return (RB_C6 / Omega) ** (1/6)\n",
    "\n",
    "print(\"Bloqade radius\", bloqade_radius(Omega), \"um\")"
   ]
  },
  {
   "cell_type": "markdown",
   "metadata": {},
   "source": [
    "##### Outside of blockade radius"
   ]
  },
  {
   "cell_type": "code",
   "execution_count": 19,
   "metadata": {},
   "outputs": [
    {
     "data": {
      "image/png": "[encoded data removed]",
      "text/plain": [
       "<Figure size 640x480 with 1 Axes>"
      ]
     },
     "execution_count": 19,
     "metadata": {},
     "output_type": "execute_result"
    }
   ],
   "source": [
    "register = start.add_position([(0,0), (8.7, 0)])  # (um)\n",
    "results = simple_prog(register).bloqade.python().run(2048)\n",
    "report = results.report()\n",
    "plot_histogram(invert_keys(report.counts()))"
   ]
  },
  {
   "cell_type": "markdown",
   "metadata": {},
   "source": [
    "##### Within blockade radius"
   ]
  },
  {
   "cell_type": "code",
   "execution_count": 20,
   "metadata": {},
   "outputs": [
    {
     "data": {
      "image/png": "[encoded data removed]",
      "text/plain": [
       "<Figure size 640x480 with 1 Axes>"
      ]
     },
     "execution_count": 20,
     "metadata": {},
     "output_type": "execute_result"
    }
   ],
   "source": [
    "register = start.add_position([(0,0), (8.42, 0)])  # (um)\n",
    "results = simple_prog(register).bloqade.python().run(2048)\n",
    "report = results.report()\n",
    "plot_histogram(invert_keys(report.counts()))"
   ]
  },
  {
   "cell_type": "markdown",
   "metadata": {},
   "source": [
    "#### Qutip Simulation\n",
    "\n",
    "As before, we can also use `qutip` to solve Schrödinger's equation."
   ]
  },
  {
   "cell_type": "code",
   "execution_count": 21,
   "metadata": {},
   "outputs": [
    {
     "name": "stdout",
     "output_type": "stream",
     "text": [
      "1 0\n"
     ]
    },
    {
     "data": {
      "text/latex": [
       "$$(-0.3993257718 + 0.4267773594 i) |00\\rangle+(0.4915346683 - 0.2955074189 i) |01\\rangle+(0.4915346683 - 0.2955074189 i) |10\\rangle+(-0.0203321842 + 0.0111662989 i) |11\\rangle$$"
      ],
      "text/plain": [
       "<IPython.core.display.Latex object>"
      ]
     },
     "execution_count": 21,
     "metadata": {},
     "output_type": "execute_result"
    }
   ],
   "source": [
    "T = np.pi/2\n",
    "times = np.linspace(0, T, 100)\n",
    "register = start.add_position([(0,0), (5,0)])  # (um)\n",
    "H_rydberg = mk_H_Rydberg(2, Omega, phi, Delta, register)\n",
    "z = basis(2, 0)\n",
    "result = mesolve(Qobj(H_rydberg, dims=[[2, 2], [2, 2]]), tensor(z, z), times, [], [])\n",
    "pretty(result.final_state)"
   ]
  },
  {
   "cell_type": "code",
   "execution_count": 22,
   "metadata": {},
   "outputs": [
    {
     "data": {
      "image/png": "[encoded data removed]",
      "text/plain": [
       "<Figure size 640x480 with 1 Axes>"
      ]
     },
     "execution_count": 22,
     "metadata": {},
     "output_type": "execute_result"
    }
   ],
   "source": [
    "plot_histogram(histogram_final_state(result.final_state.full()))"
   ]
  },
  {
   "cell_type": "markdown",
   "metadata": {},
   "source": [
    "## Summary\n",
    "\n",
    "1. We introduced neutral atom quantum computing based on Rydberg atoms.\n",
    "2. We introduced the Rydberg Hamiltonian and gave a few examples.\n",
    "3. We examined the Rydberg Blockade mechanism which enables nearby qubits to interact with each other."
   ]
  },
  {
   "cell_type": "markdown",
   "metadata": {},
   "source": [
    "## References\n",
    "\n",
    "[1] [Rydberg Hamiltonian](https://queracomputing.github.io/Bloqade.jl/dev/hamiltonians/#Hamiltonians)\n",
    "\n",
    "[2] [Rydberg Blockade](https://queracomputing.github.io/Bloqade.jl/dev/tutorials/1.blockade/main/)\n",
    "\n",
    "[3] [https://bloqade.quera.com/0.15.14/](https://bloqade.quera.com/0.15.14/)\n",
    "\n",
    "[4] [https://www.quera.com/glossary/rubidium](https://www.quera.com/glossary/rubidium)"
   ]
  },
  {
   "cell_type": "markdown",
   "metadata": {},
   "source": []
  }
 ],
 "metadata": {
  "kernelspec": {
   "display_name": "learn",
   "language": "python",
   "name": "python3"
  },
  "language_info": {
   "codemirror_mode": {
    "name": "ipython",
    "version": 3
   },
   "file_extension": ".py",
   "mimetype": "text/x-python",
   "name": "python",
   "nbconvert_exporter": "python",
   "pygments_lexer": "ipython3",
   "version": "3.12.4"
  }
 },
 "nbformat": 4,
 "nbformat_minor": 2
}
